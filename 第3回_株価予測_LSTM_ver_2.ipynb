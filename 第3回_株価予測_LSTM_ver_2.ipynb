{
  "nbformat": 4,
  "nbformat_minor": 0,
  "metadata": {
    "colab": {
      "name": "第3回 株価予測_LSTM ver.2.ipynb",
      "provenance": [],
      "collapsed_sections": [],
      "authorship_tag": "ABX9TyPY643SYwfvopb45vPgTc+9",
      "include_colab_link": true
    },
    "kernelspec": {
      "name": "python3",
      "display_name": "Python 3"
    },
    "language_info": {
      "name": "python"
    }
  },
  "cells": [
    {
      "cell_type": "markdown",
      "metadata": {
        "id": "view-in-github",
        "colab_type": "text"
      },
      "source": [
        "<a href=\"https://colab.research.google.com/github/seiji0203/stock-prices-prediction/blob/master/%E7%AC%AC3%E5%9B%9E_%E6%A0%AA%E4%BE%A1%E4%BA%88%E6%B8%AC_LSTM_ver_2.ipynb\" target=\"_parent\"><img src=\"https://colab.research.google.com/assets/colab-badge.svg\" alt=\"Open In Colab\"/></a>"
      ]
    },
    {
      "cell_type": "code",
      "execution_count": 1,
      "metadata": {
        "colab": {
          "base_uri": "https://localhost:8080/",
          "height": 1000
        },
        "id": "Nk4J8LFw8hYh",
        "outputId": "a926c4df-83a0-4621-cabc-77ae9faa36e3"
      },
      "outputs": [
        {
          "output_type": "stream",
          "name": "stdout",
          "text": [
            "\u001b[31mERROR: Could not find a version that satisfies the requirement torch==1.6.0+cu101 (from versions: 1.0.0, 1.0.1, 1.0.1.post2, 1.1.0, 1.2.0, 1.3.0, 1.3.1, 1.4.0, 1.5.0, 1.5.1, 1.6.0, 1.7.0, 1.7.1, 1.8.0, 1.8.1, 1.9.0, 1.9.1, 1.10.0, 1.10.1, 1.10.2)\u001b[0m\n",
            "\u001b[31mERROR: No matching distribution found for torch==1.6.0+cu101\u001b[0m\n",
            "\u001b[31mERROR: Could not find a version that satisfies the requirement torchvision==0.7.0+cu101 (from versions: 0.1.6, 0.1.7, 0.1.8, 0.1.9, 0.2.0, 0.2.1, 0.2.2, 0.2.2.post2, 0.2.2.post3, 0.3.0, 0.4.0, 0.4.1, 0.4.2, 0.5.0, 0.6.0, 0.6.1, 0.7.0, 0.8.0, 0.8.1, 0.8.2, 0.9.0, 0.9.1, 0.10.0, 0.10.1, 0.11.0, 0.11.1, 0.11.2, 0.11.3)\u001b[0m\n",
            "\u001b[31mERROR: No matching distribution found for torchvision==0.7.0+cu101\u001b[0m\n",
            "Collecting numpy==1.18.5\n",
            "  Downloading numpy-1.18.5-cp37-cp37m-manylinux1_x86_64.whl (20.1 MB)\n",
            "\u001b[K     |████████████████████████████████| 20.1 MB 1.2 MB/s \n",
            "\u001b[?25hInstalling collected packages: numpy\n",
            "  Attempting uninstall: numpy\n",
            "    Found existing installation: numpy 1.19.5\n",
            "    Uninstalling numpy-1.19.5:\n",
            "      Successfully uninstalled numpy-1.19.5\n",
            "\u001b[31mERROR: pip's dependency resolver does not currently take into account all the packages that are installed. This behaviour is the source of the following dependency conflicts.\n",
            "datascience 0.10.6 requires folium==0.2.1, but you have folium 0.8.3 which is incompatible.\n",
            "albumentations 0.1.12 requires imgaug<0.2.7,>=0.2.5, but you have imgaug 0.2.9 which is incompatible.\u001b[0m\n",
            "Successfully installed numpy-1.18.5\n"
          ]
        },
        {
          "output_type": "display_data",
          "data": {
            "application/vnd.colab-display-data+json": {
              "pip_warning": {
                "packages": [
                  "numpy"
                ]
              }
            }
          },
          "metadata": {}
        },
        {
          "output_type": "stream",
          "name": "stdout",
          "text": [
            "Requirement already satisfied: matplotlib==3.2.2 in /usr/local/lib/python3.7/dist-packages (3.2.2)\n",
            "Requirement already satisfied: cycler>=0.10 in /usr/local/lib/python3.7/dist-packages (from matplotlib==3.2.2) (0.11.0)\n",
            "Requirement already satisfied: kiwisolver>=1.0.1 in /usr/local/lib/python3.7/dist-packages (from matplotlib==3.2.2) (1.3.2)\n",
            "Requirement already satisfied: python-dateutil>=2.1 in /usr/local/lib/python3.7/dist-packages (from matplotlib==3.2.2) (2.8.2)\n",
            "Requirement already satisfied: pyparsing!=2.0.4,!=2.1.2,!=2.1.6,>=2.0.1 in /usr/local/lib/python3.7/dist-packages (from matplotlib==3.2.2) (3.0.7)\n",
            "Requirement already satisfied: numpy>=1.11 in /usr/local/lib/python3.7/dist-packages (from matplotlib==3.2.2) (1.18.5)\n",
            "Requirement already satisfied: six>=1.5 in /usr/local/lib/python3.7/dist-packages (from python-dateutil>=2.1->matplotlib==3.2.2) (1.15.0)\n",
            "Collecting scikit-learn==0.23.1\n",
            "  Downloading scikit_learn-0.23.1-cp37-cp37m-manylinux1_x86_64.whl (6.8 MB)\n",
            "\u001b[K     |████████████████████████████████| 6.8 MB 7.0 MB/s \n",
            "\u001b[?25hRequirement already satisfied: joblib>=0.11 in /usr/local/lib/python3.7/dist-packages (from scikit-learn==0.23.1) (1.1.0)\n",
            "Requirement already satisfied: numpy>=1.13.3 in /usr/local/lib/python3.7/dist-packages (from scikit-learn==0.23.1) (1.18.5)\n",
            "Requirement already satisfied: threadpoolctl>=2.0.0 in /usr/local/lib/python3.7/dist-packages (from scikit-learn==0.23.1) (3.0.0)\n",
            "Requirement already satisfied: scipy>=0.19.1 in /usr/local/lib/python3.7/dist-packages (from scikit-learn==0.23.1) (1.4.1)\n",
            "Installing collected packages: scikit-learn\n",
            "  Attempting uninstall: scikit-learn\n",
            "    Found existing installation: scikit-learn 1.0.2\n",
            "    Uninstalling scikit-learn-1.0.2:\n",
            "      Successfully uninstalled scikit-learn-1.0.2\n",
            "\u001b[31mERROR: pip's dependency resolver does not currently take into account all the packages that are installed. This behaviour is the source of the following dependency conflicts.\n",
            "imbalanced-learn 0.8.1 requires scikit-learn>=0.24, but you have scikit-learn 0.23.1 which is incompatible.\u001b[0m\n",
            "Successfully installed scikit-learn-0.23.1\n",
            "Collecting seaborn==0.11.0\n",
            "  Downloading seaborn-0.11.0-py3-none-any.whl (283 kB)\n",
            "\u001b[K     |████████████████████████████████| 283 kB 31.9 MB/s \n",
            "\u001b[?25hRequirement already satisfied: numpy>=1.15 in /usr/local/lib/python3.7/dist-packages (from seaborn==0.11.0) (1.18.5)\n",
            "Requirement already satisfied: pandas>=0.23 in /usr/local/lib/python3.7/dist-packages (from seaborn==0.11.0) (1.1.5)\n",
            "Requirement already satisfied: matplotlib>=2.2 in /usr/local/lib/python3.7/dist-packages (from seaborn==0.11.0) (3.2.2)\n",
            "Requirement already satisfied: scipy>=1.0 in /usr/local/lib/python3.7/dist-packages (from seaborn==0.11.0) (1.4.1)\n",
            "Requirement already satisfied: cycler>=0.10 in /usr/local/lib/python3.7/dist-packages (from matplotlib>=2.2->seaborn==0.11.0) (0.11.0)\n",
            "Requirement already satisfied: kiwisolver>=1.0.1 in /usr/local/lib/python3.7/dist-packages (from matplotlib>=2.2->seaborn==0.11.0) (1.3.2)\n",
            "Requirement already satisfied: pyparsing!=2.0.4,!=2.1.2,!=2.1.6,>=2.0.1 in /usr/local/lib/python3.7/dist-packages (from matplotlib>=2.2->seaborn==0.11.0) (3.0.7)\n",
            "Requirement already satisfied: python-dateutil>=2.1 in /usr/local/lib/python3.7/dist-packages (from matplotlib>=2.2->seaborn==0.11.0) (2.8.2)\n",
            "Requirement already satisfied: pytz>=2017.2 in /usr/local/lib/python3.7/dist-packages (from pandas>=0.23->seaborn==0.11.0) (2018.9)\n",
            "Requirement already satisfied: six>=1.5 in /usr/local/lib/python3.7/dist-packages (from python-dateutil>=2.1->matplotlib>=2.2->seaborn==0.11.0) (1.15.0)\n",
            "Installing collected packages: seaborn\n",
            "  Attempting uninstall: seaborn\n",
            "    Found existing installation: seaborn 0.11.2\n",
            "    Uninstalling seaborn-0.11.2:\n",
            "      Successfully uninstalled seaborn-0.11.2\n",
            "Successfully installed seaborn-0.11.0\n"
          ]
        }
      ],
      "source": [
        "# 必要なパッケージのインストール\n",
        "!pip3 install torch==1.6.0+cu101\n",
        "!pip3 install torchvision==0.7.0+cu101\n",
        "!pip3 install numpy==1.18.5\n",
        "!pip3 install matplotlib==3.2.2\n",
        "!pip3 install scikit-learn==0.23.1\n",
        "!pip3 install seaborn==0.11.0"
      ]
    },
    {
      "cell_type": "code",
      "source": [
        "# モジュールのインポート\n",
        "import numpy as np\n",
        "import pandas as pd\n",
        "import pandas_datareader.data as data\n",
        "from matplotlib import pyplot as plt\n",
        "%matplotlib inline\n",
        "\n",
        "# 標準化関数（StandardScaler）をインポート\n",
        "from sklearn.preprocessing import StandardScaler\n",
        "from sklearn.metrics import mean_absolute_error\n",
        "\n",
        "import torch\n",
        "from torch.utils.data import TensorDataset, DataLoader\n",
        "from torch import nn\n",
        "import torch.nn.functional as F\n",
        "from torch import optim"
      ],
      "metadata": {
        "id": "FCH5ckxT9L6s"
      },
      "execution_count": 2,
      "outputs": []
    },
    {
      "cell_type": "code",
      "source": [
        "start = '2005-01-01'\n",
        "end = '2022-01-01'\n",
        "\n",
        "df = data.DataReader('4689.JP', 'stooq', start, end) \n",
        "df.to_csv('Z_Holdings2.csv')"
      ],
      "metadata": {
        "id": "bRiD6i1l_ACj"
      },
      "execution_count": 3,
      "outputs": []
    },
    {
      "cell_type": "code",
      "source": [
        "# データの確認\n",
        "df = pd.read_csv('Z_Holdings2.csv')\n",
        "df"
      ],
      "metadata": {
        "colab": {
          "base_uri": "https://localhost:8080/",
          "height": 419
        },
        "id": "csgVMp7C_O9z",
        "outputId": "29f22cd5-d63c-4bd0-b439-e7f6d8559f05"
      },
      "execution_count": 4,
      "outputs": [
        {
          "output_type": "execute_result",
          "data": {
            "text/html": [
              "\n",
              "  <div id=\"df-bfb4b0da-ea37-45d0-883f-11a7ee7b8491\">\n",
              "    <div class=\"colab-df-container\">\n",
              "      <div>\n",
              "<style scoped>\n",
              "    .dataframe tbody tr th:only-of-type {\n",
              "        vertical-align: middle;\n",
              "    }\n",
              "\n",
              "    .dataframe tbody tr th {\n",
              "        vertical-align: top;\n",
              "    }\n",
              "\n",
              "    .dataframe thead th {\n",
              "        text-align: right;\n",
              "    }\n",
              "</style>\n",
              "<table border=\"1\" class=\"dataframe\">\n",
              "  <thead>\n",
              "    <tr style=\"text-align: right;\">\n",
              "      <th></th>\n",
              "      <th>Date</th>\n",
              "      <th>Open</th>\n",
              "      <th>High</th>\n",
              "      <th>Low</th>\n",
              "      <th>Close</th>\n",
              "      <th>Volume</th>\n",
              "    </tr>\n",
              "  </thead>\n",
              "  <tbody>\n",
              "    <tr>\n",
              "      <th>0</th>\n",
              "      <td>2021-12-30</td>\n",
              "      <td>646.90</td>\n",
              "      <td>677.00</td>\n",
              "      <td>645.70</td>\n",
              "      <td>667.40</td>\n",
              "      <td>21235600</td>\n",
              "    </tr>\n",
              "    <tr>\n",
              "      <th>1</th>\n",
              "      <td>2021-12-29</td>\n",
              "      <td>644.00</td>\n",
              "      <td>649.60</td>\n",
              "      <td>641.90</td>\n",
              "      <td>645.90</td>\n",
              "      <td>7257200</td>\n",
              "    </tr>\n",
              "    <tr>\n",
              "      <th>2</th>\n",
              "      <td>2021-12-28</td>\n",
              "      <td>649.20</td>\n",
              "      <td>654.60</td>\n",
              "      <td>643.60</td>\n",
              "      <td>644.00</td>\n",
              "      <td>12849300</td>\n",
              "    </tr>\n",
              "    <tr>\n",
              "      <th>3</th>\n",
              "      <td>2021-12-27</td>\n",
              "      <td>656.00</td>\n",
              "      <td>659.50</td>\n",
              "      <td>638.30</td>\n",
              "      <td>640.20</td>\n",
              "      <td>16486400</td>\n",
              "    </tr>\n",
              "    <tr>\n",
              "      <th>4</th>\n",
              "      <td>2021-12-24</td>\n",
              "      <td>663.10</td>\n",
              "      <td>690.10</td>\n",
              "      <td>661.70</td>\n",
              "      <td>663.40</td>\n",
              "      <td>18055500</td>\n",
              "    </tr>\n",
              "    <tr>\n",
              "      <th>...</th>\n",
              "      <td>...</td>\n",
              "      <td>...</td>\n",
              "      <td>...</td>\n",
              "      <td>...</td>\n",
              "      <td>...</td>\n",
              "      <td>...</td>\n",
              "    </tr>\n",
              "    <tr>\n",
              "      <th>4103</th>\n",
              "      <td>2005-03-28</td>\n",
              "      <td>586.38</td>\n",
              "      <td>588.58</td>\n",
              "      <td>557.61</td>\n",
              "      <td>570.88</td>\n",
              "      <td>18962973</td>\n",
              "    </tr>\n",
              "    <tr>\n",
              "      <th>4104</th>\n",
              "      <td>2005-03-25</td>\n",
              "      <td>577.54</td>\n",
              "      <td>583.05</td>\n",
              "      <td>573.09</td>\n",
              "      <td>580.85</td>\n",
              "      <td>37678290</td>\n",
              "    </tr>\n",
              "    <tr>\n",
              "      <th>4105</th>\n",
              "      <td>2005-03-24</td>\n",
              "      <td>570.88</td>\n",
              "      <td>571.98</td>\n",
              "      <td>566.47</td>\n",
              "      <td>568.68</td>\n",
              "      <td>15077282</td>\n",
              "    </tr>\n",
              "    <tr>\n",
              "      <th>4106</th>\n",
              "      <td>2005-03-23</td>\n",
              "      <td>568.68</td>\n",
              "      <td>573.09</td>\n",
              "      <td>565.36</td>\n",
              "      <td>569.77</td>\n",
              "      <td>15162243</td>\n",
              "    </tr>\n",
              "    <tr>\n",
              "      <th>4107</th>\n",
              "      <td>2005-03-22</td>\n",
              "      <td>567.57</td>\n",
              "      <td>575.31</td>\n",
              "      <td>566.47</td>\n",
              "      <td>567.57</td>\n",
              "      <td>14303578</td>\n",
              "    </tr>\n",
              "  </tbody>\n",
              "</table>\n",
              "<p>4108 rows × 6 columns</p>\n",
              "</div>\n",
              "      <button class=\"colab-df-convert\" onclick=\"convertToInteractive('df-bfb4b0da-ea37-45d0-883f-11a7ee7b8491')\"\n",
              "              title=\"Convert this dataframe to an interactive table.\"\n",
              "              style=\"display:none;\">\n",
              "        \n",
              "  <svg xmlns=\"http://www.w3.org/2000/svg\" height=\"24px\"viewBox=\"0 0 24 24\"\n",
              "       width=\"24px\">\n",
              "    <path d=\"M0 0h24v24H0V0z\" fill=\"none\"/>\n",
              "    <path d=\"M18.56 5.44l.94 2.06.94-2.06 2.06-.94-2.06-.94-.94-2.06-.94 2.06-2.06.94zm-11 1L8.5 8.5l.94-2.06 2.06-.94-2.06-.94L8.5 2.5l-.94 2.06-2.06.94zm10 10l.94 2.06.94-2.06 2.06-.94-2.06-.94-.94-2.06-.94 2.06-2.06.94z\"/><path d=\"M17.41 7.96l-1.37-1.37c-.4-.4-.92-.59-1.43-.59-.52 0-1.04.2-1.43.59L10.3 9.45l-7.72 7.72c-.78.78-.78 2.05 0 2.83L4 21.41c.39.39.9.59 1.41.59.51 0 1.02-.2 1.41-.59l7.78-7.78 2.81-2.81c.8-.78.8-2.07 0-2.86zM5.41 20L4 18.59l7.72-7.72 1.47 1.35L5.41 20z\"/>\n",
              "  </svg>\n",
              "      </button>\n",
              "      \n",
              "  <style>\n",
              "    .colab-df-container {\n",
              "      display:flex;\n",
              "      flex-wrap:wrap;\n",
              "      gap: 12px;\n",
              "    }\n",
              "\n",
              "    .colab-df-convert {\n",
              "      background-color: #E8F0FE;\n",
              "      border: none;\n",
              "      border-radius: 50%;\n",
              "      cursor: pointer;\n",
              "      display: none;\n",
              "      fill: #1967D2;\n",
              "      height: 32px;\n",
              "      padding: 0 0 0 0;\n",
              "      width: 32px;\n",
              "    }\n",
              "\n",
              "    .colab-df-convert:hover {\n",
              "      background-color: #E2EBFA;\n",
              "      box-shadow: 0px 1px 2px rgba(60, 64, 67, 0.3), 0px 1px 3px 1px rgba(60, 64, 67, 0.15);\n",
              "      fill: #174EA6;\n",
              "    }\n",
              "\n",
              "    [theme=dark] .colab-df-convert {\n",
              "      background-color: #3B4455;\n",
              "      fill: #D2E3FC;\n",
              "    }\n",
              "\n",
              "    [theme=dark] .colab-df-convert:hover {\n",
              "      background-color: #434B5C;\n",
              "      box-shadow: 0px 1px 3px 1px rgba(0, 0, 0, 0.15);\n",
              "      filter: drop-shadow(0px 1px 2px rgba(0, 0, 0, 0.3));\n",
              "      fill: #FFFFFF;\n",
              "    }\n",
              "  </style>\n",
              "\n",
              "      <script>\n",
              "        const buttonEl =\n",
              "          document.querySelector('#df-bfb4b0da-ea37-45d0-883f-11a7ee7b8491 button.colab-df-convert');\n",
              "        buttonEl.style.display =\n",
              "          google.colab.kernel.accessAllowed ? 'block' : 'none';\n",
              "\n",
              "        async function convertToInteractive(key) {\n",
              "          const element = document.querySelector('#df-bfb4b0da-ea37-45d0-883f-11a7ee7b8491');\n",
              "          const dataTable =\n",
              "            await google.colab.kernel.invokeFunction('convertToInteractive',\n",
              "                                                     [key], {});\n",
              "          if (!dataTable) return;\n",
              "\n",
              "          const docLinkHtml = 'Like what you see? Visit the ' +\n",
              "            '<a target=\"_blank\" href=https://colab.research.google.com/notebooks/data_table.ipynb>data table notebook</a>'\n",
              "            + ' to learn more about interactive tables.';\n",
              "          element.innerHTML = '';\n",
              "          dataTable['output_type'] = 'display_data';\n",
              "          await google.colab.output.renderOutput(dataTable, element);\n",
              "          const docLink = document.createElement('div');\n",
              "          docLink.innerHTML = docLinkHtml;\n",
              "          element.appendChild(docLink);\n",
              "        }\n",
              "      </script>\n",
              "    </div>\n",
              "  </div>\n",
              "  "
            ],
            "text/plain": [
              "            Date    Open    High     Low   Close    Volume\n",
              "0     2021-12-30  646.90  677.00  645.70  667.40  21235600\n",
              "1     2021-12-29  644.00  649.60  641.90  645.90   7257200\n",
              "2     2021-12-28  649.20  654.60  643.60  644.00  12849300\n",
              "3     2021-12-27  656.00  659.50  638.30  640.20  16486400\n",
              "4     2021-12-24  663.10  690.10  661.70  663.40  18055500\n",
              "...          ...     ...     ...     ...     ...       ...\n",
              "4103  2005-03-28  586.38  588.58  557.61  570.88  18962973\n",
              "4104  2005-03-25  577.54  583.05  573.09  580.85  37678290\n",
              "4105  2005-03-24  570.88  571.98  566.47  568.68  15077282\n",
              "4106  2005-03-23  568.68  573.09  565.36  569.77  15162243\n",
              "4107  2005-03-22  567.57  575.31  566.47  567.57  14303578\n",
              "\n",
              "[4108 rows x 6 columns]"
            ]
          },
          "metadata": {},
          "execution_count": 4
        }
      ]
    },
    {
      "cell_type": "code",
      "source": [
        "# カラムのデータ型の確認、欠損値の確認\n",
        "df.info()"
      ],
      "metadata": {
        "colab": {
          "base_uri": "https://localhost:8080/"
        },
        "id": "uqW2XeIo_O7x",
        "outputId": "7f0914b8-9cf5-4785-e852-18c777f31e3b"
      },
      "execution_count": 5,
      "outputs": [
        {
          "output_type": "stream",
          "name": "stdout",
          "text": [
            "<class 'pandas.core.frame.DataFrame'>\n",
            "RangeIndex: 4108 entries, 0 to 4107\n",
            "Data columns (total 6 columns):\n",
            " #   Column  Non-Null Count  Dtype  \n",
            "---  ------  --------------  -----  \n",
            " 0   Date    4108 non-null   object \n",
            " 1   Open    4108 non-null   float64\n",
            " 2   High    4108 non-null   float64\n",
            " 3   Low     4108 non-null   float64\n",
            " 4   Close   4108 non-null   float64\n",
            " 5   Volume  4108 non-null   int64  \n",
            "dtypes: float64(4), int64(1), object(1)\n",
            "memory usage: 192.7+ KB\n"
          ]
        }
      ]
    },
    {
      "cell_type": "code",
      "source": [
        "# Dateデータがobject型なので、datatime64型へ変更（利便性が高いため）\n",
        "df['Date'] = pd.to_datetime(df['Date'])\n",
        "df.info()"
      ],
      "metadata": {
        "colab": {
          "base_uri": "https://localhost:8080/"
        },
        "id": "tSjWS69L_O3x",
        "outputId": "c4929bd3-1f15-42c7-d18e-ad9ce6100d0f"
      },
      "execution_count": 6,
      "outputs": [
        {
          "output_type": "stream",
          "name": "stdout",
          "text": [
            "<class 'pandas.core.frame.DataFrame'>\n",
            "RangeIndex: 4108 entries, 0 to 4107\n",
            "Data columns (total 6 columns):\n",
            " #   Column  Non-Null Count  Dtype         \n",
            "---  ------  --------------  -----         \n",
            " 0   Date    4108 non-null   datetime64[ns]\n",
            " 1   Open    4108 non-null   float64       \n",
            " 2   High    4108 non-null   float64       \n",
            " 3   Low     4108 non-null   float64       \n",
            " 4   Close   4108 non-null   float64       \n",
            " 5   Volume  4108 non-null   int64         \n",
            "dtypes: datetime64[ns](1), float64(4), int64(1)\n",
            "memory usage: 192.7 KB\n"
          ]
        }
      ]
    },
    {
      "cell_type": "code",
      "source": [
        "# 始値(open)、安値(low)、高値(high)、出来高(volume)を消して、終値(close)のみを残す\n",
        "df = df.drop(['Open', 'Low', 'High', 'Volume'], axis=1)\n",
        "print(df.head())"
      ],
      "metadata": {
        "colab": {
          "base_uri": "https://localhost:8080/"
        },
        "id": "6HDtrPXR_O1s",
        "outputId": "6ecd614e-6548-4dd7-af90-74d9c469d978"
      },
      "execution_count": 7,
      "outputs": [
        {
          "output_type": "stream",
          "name": "stdout",
          "text": [
            "        Date  Close\n",
            "0 2021-12-30  667.4\n",
            "1 2021-12-29  645.9\n",
            "2 2021-12-28  644.0\n",
            "3 2021-12-27  640.2\n",
            "4 2021-12-24  663.4\n"
          ]
        }
      ]
    },
    {
      "cell_type": "code",
      "source": [
        "# データの並び替え（sort_valuesで日付順に並び替えを行う）\n",
        "df.sort_values(by='Date', ascending=True, inplace=True)"
      ],
      "metadata": {
        "id": "gLe4iFALpHsx"
      },
      "execution_count": 8,
      "outputs": []
    },
    {
      "cell_type": "code",
      "source": [
        "# 終値の25日移動平均(25MA)を算出\n",
        "df['25MA'] = df['Close'].rolling(window=25, min_periods=0).mean()\n",
        "print(df.head())"
      ],
      "metadata": {
        "colab": {
          "base_uri": "https://localhost:8080/"
        },
        "id": "i68fNyYx_Ozq",
        "outputId": "cda6abac-aa1a-49fc-c5df-096813c4cb8f"
      },
      "execution_count": 9,
      "outputs": [
        {
          "output_type": "stream",
          "name": "stdout",
          "text": [
            "           Date   Close        25MA\n",
            "4107 2005-03-22  567.57  567.570000\n",
            "4106 2005-03-23  569.77  568.670000\n",
            "4105 2005-03-24  568.68  568.673333\n",
            "4104 2005-03-25  580.85  571.717500\n",
            "4103 2005-03-28  570.88  571.550000\n"
          ]
        }
      ]
    },
    {
      "cell_type": "code",
      "source": [
        "# 終値と25日移動平均を図示\n",
        "plt.figure()\n",
        "plt.title('Z_Holdings')\n",
        "plt.xlabel('Date')\n",
        "plt.ylabel('Stock Price')\n",
        "# plt.xticks(np.arange(0, 180 + 1, 30))\n",
        "# plt.xticks(dataset['date'][::10].values)\n",
        "plt.plot(df['Date'], df['Close'], color='black',\n",
        "         linestyle='-', label='close')\n",
        "plt.plot(df['Date'], df['25MA'], color='red',\n",
        "         linestyle='--', label='25MA')\n",
        "plt.legend()  # 凡例\n",
        "plt.savefig('Z_Holdings.png')  # 図の保存\n",
        "plt.show()"
      ],
      "metadata": {
        "colab": {
          "base_uri": "https://localhost:8080/",
          "height": 295
        },
        "id": "iroUMtHm_OwX",
        "outputId": "e6ef7d79-ba2d-4b49-8e0c-73a0357925a4"
      },
      "execution_count": 10,
      "outputs": [
        {
          "output_type": "display_data",
          "data": {
            "image/png": "[encoded data removed]",
            "text/plain": [
              "<Figure size 432x288 with 1 Axes>"
            ]
          },
          "metadata": {
            "needs_background": "light"
          }
        }
      ]
    },
    {
      "cell_type": "code",
      "source": [
        "# 標準化\n",
        "ma = df['25MA'].values.reshape(-1, 1)\n",
        "scaler = StandardScaler()\n",
        "ma_std = scaler.fit_transform(ma)\n",
        "print(\"ma: {}\".format(ma))\n",
        "print(\"ma_std: {}\".format(ma_std))"
      ],
      "metadata": {
        "colab": {
          "base_uri": "https://localhost:8080/"
        },
        "id": "Uq7pcIqE_OsW",
        "outputId": "69881fd8-b540-4737-876a-35ee8180040f"
      },
      "execution_count": 11,
      "outputs": [
        {
          "output_type": "stream",
          "name": "stdout",
          "text": [
            "ma: [[567.57      ]\n",
            " [568.67      ]\n",
            " [568.67333333]\n",
            " ...\n",
            " [709.188     ]\n",
            " [703.144     ]\n",
            " [698.568     ]]\n",
            "ma_std: [[1.35327306]\n",
            " [1.36208879]\n",
            " [1.3621155 ]\n",
            " ...\n",
            " [2.48824161]\n",
            " [2.4398032 ]\n",
            " [2.40312979]]\n"
          ]
        }
      ]
    },
    {
      "cell_type": "code",
      "source": [
        "# 現在から過去25日分の株価の移動平均を入力値として、1日後の株価の移動平均を予測\n",
        "data = []  # 入力データ(過去25日分の移動平均)\n",
        "label = []  # 出力データ(1日後の移動平均)\n",
        "for i in range(len(ma_std) - 25):\n",
        "    data.append(ma_std[i:i + 25])\n",
        "    label.append(ma_std[i + 25])\n",
        "# ndarrayに変換\n",
        "data = np.array(data)\n",
        "label = np.array(label)\n",
        "print(\"data size: {}\".format(data.shape))\n",
        "print(\"label size: {}\".format(label.shape))"
      ],
      "metadata": {
        "colab": {
          "base_uri": "https://localhost:8080/"
        },
        "id": "lJdNF5VR_OBG",
        "outputId": "a15e141e-afa5-458e-df9e-516ac63377ec"
      },
      "execution_count": 12,
      "outputs": [
        {
          "output_type": "stream",
          "name": "stdout",
          "text": [
            "data size: (4083, 25, 1)\n",
            "label size: (4083, 1)\n"
          ]
        }
      ]
    },
    {
      "cell_type": "code",
      "source": [
        "# 訓練データとテストデータのサイズを決定\n",
        "test_len = int(252)  # 1年分(252日分)\n",
        "train_len = int(data.shape[0] - test_len)\n",
        "# 訓練データの準備\n",
        "train_data = data[:train_len]\n",
        "train_label = label[:train_len]\n",
        "# テストデータの準備\n",
        "test_data = data[train_len:]\n",
        "test_label = label[train_len:]\n",
        "# データの形状を確認\n",
        "print(\"train_data size: {}\".format(train_data.shape))\n",
        "print(\"test_data size: {}\".format(test_data.shape))\n",
        "print(\"train_label size: {}\".format(train_label.shape))\n",
        "print(\"test_label size: {}\".format(test_label.shape))"
      ],
      "metadata": {
        "colab": {
          "base_uri": "https://localhost:8080/"
        },
        "id": "X1JMUwkaKSF5",
        "outputId": "c088f863-effc-42e5-b0b1-5a0b7771e67c"
      },
      "execution_count": 13,
      "outputs": [
        {
          "output_type": "stream",
          "name": "stdout",
          "text": [
            "train_data size: (3831, 25, 1)\n",
            "test_data size: (252, 25, 1)\n",
            "train_label size: (3831, 1)\n",
            "test_label size: (252, 1)\n"
          ]
        }
      ]
    },
    {
      "cell_type": "code",
      "source": [
        "# ndarrayをPyTorchのTensorに変換\n",
        "train_x = torch.Tensor(train_data)\n",
        "test_x = torch.Tensor(test_data)\n",
        "train_y = torch.Tensor(train_label)\n",
        "test_y = torch.Tensor(test_label)"
      ],
      "metadata": {
        "id": "-1hFMLPZKVQl"
      },
      "execution_count": 14,
      "outputs": []
    },
    {
      "cell_type": "code",
      "source": [
        "# 特徴量とラベルを結合したデータセットを作成\n",
        "train_dataset = TensorDataset(train_x, train_y)\n",
        "test_dataset = TensorDataset(test_x, test_y)"
      ],
      "metadata": {
        "id": "PpUIhqfVKXAx"
      },
      "execution_count": 15,
      "outputs": []
    },
    {
      "cell_type": "code",
      "source": [
        "# ミニバッチサイズを指定したデータローダーを作成\n",
        "train_batch = DataLoader(\n",
        "    dataset=train_dataset,  # データセットの指定\n",
        "    batch_size=128,  # バッチサイズの指定\n",
        "    shuffle=True,  # シャッフルするかどうかの指定\n",
        "    num_workers=2)  # コアの数\n",
        "test_batch = DataLoader(\n",
        "    dataset=test_dataset,\n",
        "    batch_size=128,\n",
        "    shuffle=False,\n",
        "    num_workers=2)\n",
        "# ミニバッチデータセットの確認\n",
        "for data, label in train_batch:\n",
        "    print(\"batch data size: {}\".format(data.size()))  # バッチの入力データサイズ\n",
        "    print(\"batch label size: {}\".format(label.size()))  # バッチのラベルサイズ\n",
        "    break"
      ],
      "metadata": {
        "colab": {
          "base_uri": "https://localhost:8080/"
        },
        "id": "YMFQlPKJKYZP",
        "outputId": "e5e5b089-a2d6-4d48-a358-51539aeb1058"
      },
      "execution_count": 16,
      "outputs": [
        {
          "output_type": "stream",
          "name": "stdout",
          "text": [
            "batch data size: torch.Size([128, 25, 1])\n",
            "batch label size: torch.Size([128, 1])\n"
          ]
        }
      ]
    },
    {
      "cell_type": "code",
      "source": [
        "# ニューラルネットワークの定義\n",
        "class Net(nn.Module):\n",
        "    def __init__(self, D_in, H, D_out):\n",
        "        super(Net, self).__init__()\n",
        "        self.lstm = nn.LSTM(D_in, H, batch_first=True,\n",
        "                            num_layers=1)\n",
        "        self.linear = nn.Linear(H, D_out)\n",
        "\n",
        "    def forward(self, x):\n",
        "        output, (hidden, cell) = self.lstm(x)\n",
        "        output = self.linear(output[:, -1, :])  # 最後のステップのみを入力\n",
        "        return output"
      ],
      "metadata": {
        "id": "u7GU8mHdKa28"
      },
      "execution_count": 17,
      "outputs": []
    },
    {
      "cell_type": "code",
      "source": [
        "# ハイパーパラメータの定義\n",
        "D_in = 1  # 入力次元: 1\n",
        "H = 200  # 隠れ層次元: 200\n",
        "D_out = 1  # 出力次元: 1\n",
        "epoch = 100  # 学習回数: 100"
      ],
      "metadata": {
        "id": "S2Q8KJFTKdCy"
      },
      "execution_count": 18,
      "outputs": []
    },
    {
      "cell_type": "code",
      "source": [
        "# ネットワークのロード\n",
        "# CPUとGPUどちらを使うかを指定\n",
        "device = torch.device('cuda' if torch.cuda.is_available() else 'cpu')\n",
        "net = Net(D_in, H, D_out).to(device)\n",
        "# デバイスの確認\n",
        "print(\"Device: {}\".format(device))"
      ],
      "metadata": {
        "colab": {
          "base_uri": "https://localhost:8080/"
        },
        "id": "s-w0mwdqKemD",
        "outputId": "fb6f52e2-42f5-4a24-b19c-415386204031"
      },
      "execution_count": 19,
      "outputs": [
        {
          "output_type": "stream",
          "name": "stdout",
          "text": [
            "Device: cpu\n"
          ]
        }
      ]
    },
    {
      "cell_type": "code",
      "source": [
        "# 損失関数の定義\n",
        "criterion = nn.MSELoss()  # 損失関数（平均二乗誤差: MSE）\n",
        "\n",
        "# 最適化関数の定義\n",
        "optimizer = optim.Adam(net.parameters())"
      ],
      "metadata": {
        "id": "8FekG4GyKfkk"
      },
      "execution_count": 20,
      "outputs": []
    },
    {
      "cell_type": "code",
      "source": [
        "# 損失を保存するリストを作成\n",
        "train_loss_list = []  # 学習損失\n",
        "test_loss_list = []  # 評価損失\n",
        "\n",
        "# 学習（エポック）の実行\n",
        "for i in range(epoch):\n",
        "    # エポックの進行状況を表示\n",
        "    print('---------------------------------------------')\n",
        "    print(\"Epoch: {}/{}\".format(i+1, epoch))\n",
        "\n",
        "    # 損失の初期化\n",
        "    train_loss = 0  # 学習損失\n",
        "    test_loss = 0  # 評価損失\n",
        "\n",
        "    # ---------学習パート--------- #\n",
        "    # ニューラルネットワークを学習モードに設定\n",
        "    net.train()\n",
        "    # ミニバッチごとにデータをロードし学習\n",
        "    for data, label in train_batch:\n",
        "        # GPUにTensorを転送\n",
        "        data = data.to(device)\n",
        "        label = label.to(device)\n",
        "\n",
        "        # 勾配を初期化\n",
        "        optimizer.zero_grad()\n",
        "        # データを入力して予測値を計算（順伝播）\n",
        "        y_pred = net(data)\n",
        "        # 損失（誤差）を計算\n",
        "        loss = criterion(y_pred, label)\n",
        "        # 勾配の計算（逆伝搬）\n",
        "        loss.backward()\n",
        "        # パラメータ（重み）の更新\n",
        "        optimizer.step()\n",
        "        # ミニバッチごとの損失を蓄積\n",
        "        train_loss += loss.item()\n",
        "\n",
        "    # ミニバッチの平均の損失を計算\n",
        "    batch_train_loss = train_loss / len(train_batch)\n",
        "    # ---------学習パートはここまで--------- #\n",
        "\n",
        "    # ---------評価パート--------- #\n",
        "    # ニューラルネットワークを評価モードに設定\n",
        "    net.eval()\n",
        "    # 評価時の計算で自動微分機能をオフにする\n",
        "    with torch.no_grad():\n",
        "        for data, label in test_batch:\n",
        "            # GPUにTensorを転送\n",
        "            data = data.to(device)\n",
        "            label = label.to(device)\n",
        "            # データを入力して予測値を計算（順伝播）\n",
        "            y_pred = net(data)\n",
        "            # 損失（誤差）を計算\n",
        "            loss = criterion(y_pred, label)\n",
        "            # ミニバッチごとの損失を蓄積\n",
        "            test_loss += loss.item()\n",
        "\n",
        "    # ミニバッチの平均の損失を計算\n",
        "    batch_test_loss = test_loss / len(test_batch)\n",
        "    # ---------評価パートはここまで--------- #\n",
        "\n",
        "    # エポックごとに損失を表示\n",
        "    print(\"Train_Loss: {:.2E} Test_Loss: {:.2E}\".format(\n",
        "        batch_train_loss, batch_test_loss))\n",
        "    # 損失をリスト化して保存\n",
        "    train_loss_list.append(batch_train_loss)\n",
        "    test_loss_list.append(batch_test_loss)"
      ],
      "metadata": {
        "colab": {
          "base_uri": "https://localhost:8080/"
        },
        "id": "AFYp95axKhYu",
        "outputId": "3fff2d3a-08ab-401c-ba7a-f0383966b357"
      },
      "execution_count": 21,
      "outputs": [
        {
          "output_type": "stream",
          "name": "stdout",
          "text": [
            "---------------------------------------------\n",
            "Epoch: 1/100\n",
            "Train_Loss: 2.63E-01 Test_Loss: 9.71E-02\n",
            "---------------------------------------------\n",
            "Epoch: 2/100\n",
            "Train_Loss: 1.50E-02 Test_Loss: 5.89E-02\n",
            "---------------------------------------------\n",
            "Epoch: 3/100\n",
            "Train_Loss: 6.78E-03 Test_Loss: 2.16E-02\n",
            "---------------------------------------------\n",
            "Epoch: 4/100\n",
            "Train_Loss: 4.63E-03 Test_Loss: 2.25E-02\n",
            "---------------------------------------------\n",
            "Epoch: 5/100\n",
            "Train_Loss: 3.38E-03 Test_Loss: 5.59E-03\n",
            "---------------------------------------------\n",
            "Epoch: 6/100\n",
            "Train_Loss: 2.38E-03 Test_Loss: 3.46E-03\n",
            "---------------------------------------------\n",
            "Epoch: 7/100\n",
            "Train_Loss: 2.00E-03 Test_Loss: 3.18E-03\n",
            "---------------------------------------------\n",
            "Epoch: 8/100\n",
            "Train_Loss: 1.50E-03 Test_Loss: 2.39E-03\n",
            "---------------------------------------------\n",
            "Epoch: 9/100\n",
            "Train_Loss: 1.28E-03 Test_Loss: 2.57E-03\n",
            "---------------------------------------------\n",
            "Epoch: 10/100\n",
            "Train_Loss: 1.08E-03 Test_Loss: 2.80E-03\n",
            "---------------------------------------------\n",
            "Epoch: 11/100\n",
            "Train_Loss: 9.63E-04 Test_Loss: 3.40E-03\n",
            "---------------------------------------------\n",
            "Epoch: 12/100\n",
            "Train_Loss: 9.27E-04 Test_Loss: 3.31E-03\n",
            "---------------------------------------------\n",
            "Epoch: 13/100\n",
            "Train_Loss: 8.87E-04 Test_Loss: 2.33E-03\n",
            "---------------------------------------------\n",
            "Epoch: 14/100\n",
            "Train_Loss: 8.59E-04 Test_Loss: 2.86E-03\n",
            "---------------------------------------------\n",
            "Epoch: 15/100\n",
            "Train_Loss: 8.47E-04 Test_Loss: 2.44E-03\n",
            "---------------------------------------------\n",
            "Epoch: 16/100\n",
            "Train_Loss: 8.65E-04 Test_Loss: 4.26E-03\n",
            "---------------------------------------------\n",
            "Epoch: 17/100\n",
            "Train_Loss: 7.81E-04 Test_Loss: 2.85E-03\n",
            "---------------------------------------------\n",
            "Epoch: 18/100\n",
            "Train_Loss: 7.50E-04 Test_Loss: 3.36E-03\n",
            "---------------------------------------------\n",
            "Epoch: 19/100\n",
            "Train_Loss: 7.25E-04 Test_Loss: 2.02E-03\n",
            "---------------------------------------------\n",
            "Epoch: 20/100\n",
            "Train_Loss: 7.15E-04 Test_Loss: 2.57E-03\n",
            "---------------------------------------------\n",
            "Epoch: 21/100\n",
            "Train_Loss: 6.92E-04 Test_Loss: 3.28E-03\n",
            "---------------------------------------------\n",
            "Epoch: 22/100\n",
            "Train_Loss: 6.58E-04 Test_Loss: 3.00E-03\n",
            "---------------------------------------------\n",
            "Epoch: 23/100\n",
            "Train_Loss: 6.39E-04 Test_Loss: 2.96E-03\n",
            "---------------------------------------------\n",
            "Epoch: 24/100\n",
            "Train_Loss: 6.41E-04 Test_Loss: 3.02E-03\n",
            "---------------------------------------------\n",
            "Epoch: 25/100\n",
            "Train_Loss: 6.24E-04 Test_Loss: 1.95E-03\n",
            "---------------------------------------------\n",
            "Epoch: 26/100\n",
            "Train_Loss: 6.21E-04 Test_Loss: 1.93E-03\n",
            "---------------------------------------------\n",
            "Epoch: 27/100\n",
            "Train_Loss: 5.78E-04 Test_Loss: 2.07E-03\n",
            "---------------------------------------------\n",
            "Epoch: 28/100\n",
            "Train_Loss: 5.86E-04 Test_Loss: 1.85E-03\n",
            "---------------------------------------------\n",
            "Epoch: 29/100\n",
            "Train_Loss: 5.60E-04 Test_Loss: 2.76E-03\n",
            "---------------------------------------------\n",
            "Epoch: 30/100\n",
            "Train_Loss: 5.17E-04 Test_Loss: 3.52E-03\n",
            "---------------------------------------------\n",
            "Epoch: 31/100\n",
            "Train_Loss: 5.71E-04 Test_Loss: 1.43E-03\n",
            "---------------------------------------------\n",
            "Epoch: 32/100\n",
            "Train_Loss: 5.05E-04 Test_Loss: 1.98E-03\n",
            "---------------------------------------------\n",
            "Epoch: 33/100\n",
            "Train_Loss: 5.01E-04 Test_Loss: 2.74E-03\n",
            "---------------------------------------------\n",
            "Epoch: 34/100\n",
            "Train_Loss: 4.97E-04 Test_Loss: 1.21E-03\n",
            "---------------------------------------------\n",
            "Epoch: 35/100\n",
            "Train_Loss: 5.40E-04 Test_Loss: 1.60E-03\n",
            "---------------------------------------------\n",
            "Epoch: 36/100\n",
            "Train_Loss: 5.49E-04 Test_Loss: 1.54E-03\n",
            "---------------------------------------------\n",
            "Epoch: 37/100\n",
            "Train_Loss: 4.42E-04 Test_Loss: 2.71E-03\n",
            "---------------------------------------------\n",
            "Epoch: 38/100\n",
            "Train_Loss: 5.68E-04 Test_Loss: 1.49E-03\n",
            "---------------------------------------------\n",
            "Epoch: 39/100\n",
            "Train_Loss: 4.87E-04 Test_Loss: 1.20E-03\n",
            "---------------------------------------------\n",
            "Epoch: 40/100\n",
            "Train_Loss: 4.05E-04 Test_Loss: 1.21E-03\n",
            "---------------------------------------------\n",
            "Epoch: 41/100\n",
            "Train_Loss: 5.04E-04 Test_Loss: 1.67E-03\n",
            "---------------------------------------------\n",
            "Epoch: 42/100\n",
            "Train_Loss: 5.91E-04 Test_Loss: 1.62E-03\n",
            "---------------------------------------------\n",
            "Epoch: 43/100\n",
            "Train_Loss: 4.32E-04 Test_Loss: 1.22E-03\n",
            "---------------------------------------------\n",
            "Epoch: 44/100\n",
            "Train_Loss: 4.10E-04 Test_Loss: 2.47E-03\n",
            "---------------------------------------------\n",
            "Epoch: 45/100\n",
            "Train_Loss: 4.27E-04 Test_Loss: 1.06E-03\n",
            "---------------------------------------------\n",
            "Epoch: 46/100\n",
            "Train_Loss: 3.83E-04 Test_Loss: 2.24E-03\n",
            "---------------------------------------------\n",
            "Epoch: 47/100\n",
            "Train_Loss: 3.69E-04 Test_Loss: 1.15E-03\n",
            "---------------------------------------------\n",
            "Epoch: 48/100\n",
            "Train_Loss: 3.37E-04 Test_Loss: 1.16E-03\n",
            "---------------------------------------------\n",
            "Epoch: 49/100\n",
            "Train_Loss: 3.25E-04 Test_Loss: 1.08E-03\n",
            "---------------------------------------------\n",
            "Epoch: 50/100\n",
            "Train_Loss: 3.64E-04 Test_Loss: 1.39E-03\n",
            "---------------------------------------------\n",
            "Epoch: 51/100\n",
            "Train_Loss: 3.23E-04 Test_Loss: 1.69E-03\n",
            "---------------------------------------------\n",
            "Epoch: 52/100\n",
            "Train_Loss: 3.16E-04 Test_Loss: 8.10E-04\n",
            "---------------------------------------------\n",
            "Epoch: 53/100\n",
            "Train_Loss: 3.47E-04 Test_Loss: 9.40E-04\n",
            "---------------------------------------------\n",
            "Epoch: 54/100\n",
            "Train_Loss: 3.17E-04 Test_Loss: 8.85E-04\n",
            "---------------------------------------------\n",
            "Epoch: 55/100\n",
            "Train_Loss: 3.14E-04 Test_Loss: 8.86E-04\n",
            "---------------------------------------------\n",
            "Epoch: 56/100\n",
            "Train_Loss: 3.78E-04 Test_Loss: 2.59E-03\n",
            "---------------------------------------------\n",
            "Epoch: 57/100\n",
            "Train_Loss: 3.24E-04 Test_Loss: 1.18E-03\n",
            "---------------------------------------------\n",
            "Epoch: 58/100\n",
            "Train_Loss: 3.07E-04 Test_Loss: 8.58E-04\n",
            "---------------------------------------------\n",
            "Epoch: 59/100\n",
            "Train_Loss: 3.39E-04 Test_Loss: 7.44E-04\n",
            "---------------------------------------------\n",
            "Epoch: 60/100\n",
            "Train_Loss: 2.72E-04 Test_Loss: 1.01E-03\n",
            "---------------------------------------------\n",
            "Epoch: 61/100\n",
            "Train_Loss: 3.39E-04 Test_Loss: 2.69E-03\n",
            "---------------------------------------------\n",
            "Epoch: 62/100\n",
            "Train_Loss: 3.25E-04 Test_Loss: 9.39E-04\n",
            "---------------------------------------------\n",
            "Epoch: 63/100\n",
            "Train_Loss: 3.17E-04 Test_Loss: 8.36E-04\n",
            "---------------------------------------------\n",
            "Epoch: 64/100\n",
            "Train_Loss: 2.57E-04 Test_Loss: 1.12E-03\n",
            "---------------------------------------------\n",
            "Epoch: 65/100\n",
            "Train_Loss: 2.34E-04 Test_Loss: 7.85E-04\n",
            "---------------------------------------------\n",
            "Epoch: 66/100\n",
            "Train_Loss: 2.33E-04 Test_Loss: 5.04E-04\n",
            "---------------------------------------------\n",
            "Epoch: 67/100\n",
            "Train_Loss: 2.29E-04 Test_Loss: 1.27E-03\n",
            "---------------------------------------------\n",
            "Epoch: 68/100\n",
            "Train_Loss: 2.15E-04 Test_Loss: 7.14E-04\n",
            "---------------------------------------------\n",
            "Epoch: 69/100\n",
            "Train_Loss: 2.05E-04 Test_Loss: 5.84E-04\n",
            "---------------------------------------------\n",
            "Epoch: 70/100\n",
            "Train_Loss: 2.11E-04 Test_Loss: 4.83E-04\n",
            "---------------------------------------------\n",
            "Epoch: 71/100\n",
            "Train_Loss: 2.56E-04 Test_Loss: 1.05E-03\n",
            "---------------------------------------------\n",
            "Epoch: 72/100\n",
            "Train_Loss: 2.71E-04 Test_Loss: 9.91E-04\n",
            "---------------------------------------------\n",
            "Epoch: 73/100\n",
            "Train_Loss: 2.25E-04 Test_Loss: 5.87E-04\n",
            "---------------------------------------------\n",
            "Epoch: 74/100\n",
            "Train_Loss: 2.49E-04 Test_Loss: 6.62E-04\n",
            "---------------------------------------------\n",
            "Epoch: 75/100\n",
            "Train_Loss: 1.91E-04 Test_Loss: 6.07E-04\n",
            "---------------------------------------------\n",
            "Epoch: 76/100\n",
            "Train_Loss: 2.44E-04 Test_Loss: 6.47E-04\n",
            "---------------------------------------------\n",
            "Epoch: 77/100\n",
            "Train_Loss: 2.04E-04 Test_Loss: 9.81E-04\n",
            "---------------------------------------------\n",
            "Epoch: 78/100\n",
            "Train_Loss: 1.97E-04 Test_Loss: 5.34E-04\n",
            "---------------------------------------------\n",
            "Epoch: 79/100\n",
            "Train_Loss: 2.10E-04 Test_Loss: 4.70E-04\n",
            "---------------------------------------------\n",
            "Epoch: 80/100\n",
            "Train_Loss: 1.73E-04 Test_Loss: 4.82E-04\n",
            "---------------------------------------------\n",
            "Epoch: 81/100\n",
            "Train_Loss: 2.14E-04 Test_Loss: 6.21E-04\n",
            "---------------------------------------------\n",
            "Epoch: 82/100\n",
            "Train_Loss: 1.67E-04 Test_Loss: 4.58E-04\n",
            "---------------------------------------------\n",
            "Epoch: 83/100\n",
            "Train_Loss: 1.68E-04 Test_Loss: 5.86E-04\n",
            "---------------------------------------------\n",
            "Epoch: 84/100\n",
            "Train_Loss: 1.92E-04 Test_Loss: 5.45E-04\n",
            "---------------------------------------------\n",
            "Epoch: 85/100\n",
            "Train_Loss: 1.70E-04 Test_Loss: 5.34E-04\n",
            "---------------------------------------------\n",
            "Epoch: 86/100\n",
            "Train_Loss: 1.91E-04 Test_Loss: 5.44E-04\n",
            "---------------------------------------------\n",
            "Epoch: 87/100\n",
            "Train_Loss: 1.69E-04 Test_Loss: 6.73E-04\n",
            "---------------------------------------------\n",
            "Epoch: 88/100\n",
            "Train_Loss: 2.82E-04 Test_Loss: 5.71E-04\n",
            "---------------------------------------------\n",
            "Epoch: 89/100\n",
            "Train_Loss: 2.17E-04 Test_Loss: 8.64E-04\n",
            "---------------------------------------------\n",
            "Epoch: 90/100\n",
            "Train_Loss: 1.91E-04 Test_Loss: 4.44E-04\n",
            "---------------------------------------------\n",
            "Epoch: 91/100\n",
            "Train_Loss: 1.95E-04 Test_Loss: 5.24E-04\n",
            "---------------------------------------------\n",
            "Epoch: 92/100\n",
            "Train_Loss: 1.92E-04 Test_Loss: 7.40E-04\n",
            "---------------------------------------------\n",
            "Epoch: 93/100\n",
            "Train_Loss: 2.11E-04 Test_Loss: 5.38E-04\n",
            "---------------------------------------------\n",
            "Epoch: 94/100\n",
            "Train_Loss: 1.56E-04 Test_Loss: 5.97E-04\n",
            "---------------------------------------------\n",
            "Epoch: 95/100\n",
            "Train_Loss: 1.50E-04 Test_Loss: 6.22E-04\n",
            "---------------------------------------------\n",
            "Epoch: 96/100\n",
            "Train_Loss: 1.55E-04 Test_Loss: 4.00E-04\n",
            "---------------------------------------------\n",
            "Epoch: 97/100\n",
            "Train_Loss: 1.61E-04 Test_Loss: 5.96E-04\n",
            "---------------------------------------------\n",
            "Epoch: 98/100\n",
            "Train_Loss: 1.52E-04 Test_Loss: 1.08E-03\n",
            "---------------------------------------------\n",
            "Epoch: 99/100\n",
            "Train_Loss: 1.56E-04 Test_Loss: 4.00E-04\n",
            "---------------------------------------------\n",
            "Epoch: 100/100\n",
            "Train_Loss: 1.40E-04 Test_Loss: 4.28E-04\n"
          ]
        }
      ]
    },
    {
      "cell_type": "code",
      "source": [
        "# 損失\n",
        "plt.figure()\n",
        "plt.title('Train and Test Loss')\n",
        "plt.xlabel('Epoch')\n",
        "plt.ylabel('Loss')\n",
        "plt.plot(range(1, epoch+1), train_loss_list, color='blue',\n",
        "         linestyle='-', label='Train_Loss')\n",
        "plt.plot(range(1, epoch+1), test_loss_list, color='red',\n",
        "         linestyle='--', label='Test_Loss')\n",
        "plt.legend()  # 凡例\n",
        "plt.show()  # 表示"
      ],
      "metadata": {
        "colab": {
          "base_uri": "https://localhost:8080/",
          "height": 295
        },
        "id": "0_-hgSNKKmXE",
        "outputId": "64bb0257-ca9d-4113-d397-1b3019904256"
      },
      "execution_count": 22,
      "outputs": [
        {
          "output_type": "display_data",
          "data": {
            "image/png": "[encoded data removed]",
            "text/plain": [
              "<Figure size 432x288 with 1 Axes>"
            ]
          },
          "metadata": {
            "needs_background": "light"
          }
        }
      ]
    },
    {
      "cell_type": "code",
      "source": [
        "# ニューラルネットワークを評価モードに設定\n",
        "net.eval()\n",
        "# 推定時の計算で自動微分機能をオフにする\n",
        "with torch.no_grad():\n",
        "    # 初期化\n",
        "    pred_ma = []\n",
        "    true_ma = []\n",
        "    for data, label in test_batch:\n",
        "        # GPUにTensorを転送\n",
        "        data = data.to(device)\n",
        "        label = label.to(device)\n",
        "        # データを入力して予測値を計算（順伝播）\n",
        "        y_pred = net(data)\n",
        "        pred_ma.append(y_pred.view(-1).tolist())  # Tensorを1次元listに変換\n",
        "        true_ma.append(label.view(-1).tolist())"
      ],
      "metadata": {
        "id": "9By8PuOcKrb3"
      },
      "execution_count": 23,
      "outputs": []
    },
    {
      "cell_type": "code",
      "source": [
        "# Tensorを数値データを取り出す\n",
        "pred_ma = [elem for lst in pred_ma for elem in lst]  # listを1次元配列に\n",
        "true_ma = [elem for lst in true_ma for elem in lst]\n",
        "\n",
        "# 標準化を解除して元の株価に変換\n",
        "pred_ma = scaler.inverse_transform(pred_ma)\n",
        "true_ma = scaler.inverse_transform(true_ma)"
      ],
      "metadata": {
        "id": "fL23n2K1KrIp"
      },
      "execution_count": 24,
      "outputs": []
    },
    {
      "cell_type": "code",
      "source": [
        "# 平均絶対誤差を計算\n",
        "mae = mean_absolute_error(true_ma, pred_ma)\n",
        "print(\"MAE: {:.3f}\".format(mae))"
      ],
      "metadata": {
        "colab": {
          "base_uri": "https://localhost:8080/"
        },
        "id": "092_YcYQKueP",
        "outputId": "811b55da-2bed-43e2-efde-dbee6d856001"
      },
      "execution_count": 25,
      "outputs": [
        {
          "output_type": "stream",
          "name": "stdout",
          "text": [
            "MAE: 2.043\n"
          ]
        }
      ]
    },
    {
      "cell_type": "code",
      "source": [
        "# 終値と25日移動平均を図示\n",
        "date = df['Date'][-1*test_len:]  # テストデータの日付\n",
        "test_close = df['Close'][-1*test_len:].values.reshape(-1)  # テストデータの終値\n",
        "plt.figure()\n",
        "plt.title('YHOO Stock Price Prediction')\n",
        "plt.xlabel('Date')\n",
        "plt.ylabel('Stock Price')\n",
        "plt.plot(date, test_close, color='black',\n",
        "         linestyle='-', label='close')\n",
        "plt.plot(date, true_ma, color='dodgerblue',\n",
        "         linestyle='--', label='true_25MA')\n",
        "plt.plot(date, pred_ma, color='red',\n",
        "         linestyle=':', label='predicted_25MA')\n",
        "plt.legend()  # 凡例\n",
        "plt.xticks(rotation=30)  # x軸ラベルを30度回転して表示\n",
        "plt.show()"
      ],
      "metadata": {
        "colab": {
          "base_uri": "https://localhost:8080/",
          "height": 315
        },
        "id": "0t8DRMZ3Kv-5",
        "outputId": "d8d85f59-0d9b-4b98-8ec3-86fbbdff2ec6"
      },
      "execution_count": 26,
      "outputs": [
        {
          "output_type": "display_data",
          "data": {
            "image/png": "[encoded data removed]",
            "text/plain": [
              "<Figure size 432x288 with 1 Axes>"
            ]
          },
          "metadata": {
            "needs_background": "light"
          }
        }
      ]
    }
  ]
}